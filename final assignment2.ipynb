{
 "cells": [
  {
   "cell_type": "code",
   "execution_count": null,
   "id": "fb171c9b-5ad6-450f-8fbc-544450fc3857",
   "metadata": {},
   "outputs": [],
   "source": [
    "#liebraries"
   ]
  },
  {
   "cell_type": "code",
   "execution_count": null,
   "id": "694a0425-cc4c-4014-bfc5-891711bba973",
   "metadata": {},
   "outputs": [],
   "source": [
    "import pandas as pd\n",
    "import seaborn as sns\n",
    "import statsmodels.api as sm\n",
    "import matplotlib.pyplot as plt\n",
    "import numpy as np\n"
   ]
  },
  {
   "cell_type": "code",
   "execution_count": null,
   "id": "aa9b745a-1a74-458b-8177-ae164bfeee15",
   "metadata": {},
   "outputs": [],
   "source": [
    "# Upload & initial exploration the file"
   ]
  },
  {
   "cell_type": "code",
   "execution_count": null,
   "id": "8639f3b8-3713-4db0-8e03-5c276fa37cfa",
   "metadata": {},
   "outputs": [],
   "source": [
    "data = pd.read_csv('BerlinHousing4049.csv') # Uploading the csv file\n",
    "data.info()\n",
    "data.describe()"
   ]
  },
  {
   "cell_type": "code",
   "execution_count": null,
   "id": "a5ca3879-3608-4fbf-a9cb-a4c495785935",
   "metadata": {},
   "outputs": [],
   "source": [
    "#Preprocessoring"
   ]
  },
  {
   "cell_type": "code",
   "execution_count": null,
   "id": "a59ef342-5100-481c-a10f-7122257241a4",
   "metadata": {},
   "outputs": [],
   "source": [
    "#Type Conversion & Correction\n",
    "data['build'] = pd.to_datetime(data['built'], format='%Y', errors='coerce')\n",
    "data['renovate'] = pd.to_datetime(data['renovated'], format='%Y', errors='coerce')\n",
    "data[['build','renovate']].info(5)"
   ]
  },
  {
   "cell_type": "code",
   "execution_count": null,
   "id": "52fbfad2-eb66-4456-a995-f4b7904e432d",
   "metadata": {},
   "outputs": [],
   "source": [
    "#Removing the Duplicates values\n",
    "dupli_count = data.duplicated().sum() # collecting the duplicated rows \n",
    "data_cle = data.drop_duplicates() # Removing\n",
    "print(f\"\\nNumber of Duplicate Rows Removed: {dupli_count}\")\n",
    "data_cle.to_csv(\"BerlinHousing4049.csv\", index=False)"
   ]
  },
  {
   "cell_type": "code",
   "execution_count": null,
   "id": "36564fde-5c69-4691-a227-12a8e7f65011",
   "metadata": {},
   "outputs": [],
   "source": [
    "#Normalization"
   ]
  },
  {
   "cell_type": "code",
   "execution_count": null,
   "id": "dc41eaa9-1d70-41f3-8dbf-66572c61bf88",
   "metadata": {},
   "outputs": [],
   "source": [
    "from sklearn.preprocessing import StandardScaler#Enter class\n",
    "scaler = StandardScaler() # an object of the StandardScaler class named scaler is created\n",
    "\n",
    "data[['price','sqft_total','sqft_living', 'living_area_sqft']] = scaler.fit_transform(data[['price','sqft_total','sqft_living',\n",
    "                                                                                            'living_area_sqft']])#Apply standardization\n",
    "data.head(5)"
   ]
  },
  {
   "cell_type": "code",
   "execution_count": null,
   "id": "1556e233-56b4-4075-be55-0b57af55a083",
   "metadata": {},
   "outputs": [],
   "source": [
    "#handeling the outliers values"
   ]
  },
  {
   "cell_type": "code",
   "execution_count": null,
   "id": "7fc0e439-3b77-471b-bd2f-7bb52e127455",
   "metadata": {},
   "outputs": [],
   "source": [
    "# Boxplot for 'price' \n",
    "\n",
    "plt.figure(figsize=(8, 3)) #Adjust the size of the chart frame\n",
    "\n",
    "# Price Boxplot\n",
    "plt.subplot(1, 2, 1) #Division of chart display space\n",
    "sns.boxplot(data['price']) #making a box diagram of the price factor\n",
    "plt.title('Boxplot of Price')\n",
    "plt.xlabel('Price')\n",
    "plt.tight_layout() #Chart appearance settings\n",
    "plt.show()"
   ]
  },
  {
   "cell_type": "code",
   "execution_count": null,
   "id": "649b1559-90cb-44ef-ac6e-019ca3fe3f59",
   "metadata": {},
   "outputs": [],
   "source": [
    "# Finding Outliers"
   ]
  },
  {
   "cell_type": "code",
   "execution_count": null,
   "id": "3181d9cb-1d00-458d-aee0-2bec343f57cb",
   "metadata": {},
   "outputs": [],
   "source": [
    "Q1_price = data['price'].quantile(0.25)  # Assign 25% of  price column data to Q1_price\n",
    "Q3_price = data['price'].quantile(0.75) #Assign 75% of price column data to Q3_price\n",
    "IQR_price = Q3_price - Q1_price         #Calculate the distance between Q1 and Q2 to get the distance between these two quadrants\n",
    "lower_bound_price = Q1_price - 1.5 * IQR_price  #Calculation of  Low quadrants\n",
    "upper_bound_price = Q3_price + 1.5 * IQR_price   #Calculation of High  quadrants\n",
    "data = data[(data['price'] >= lower_bound_price) & (data['price'] <= upper_bound_price)] # Remove the price column outliers\n",
    "print(\"Number of rows after removing outliers:\", len(data)) # show the number of removed rows\n",
    "plt.figure(figsize=(8, 3)) #Adjust the size of the chart frame\n",
    "plt.subplot(1, 2, 1) \n",
    "sns.boxplot(data['price']) \n",
    "plt.title('Boxplot of Price')\n",
    "plt.xlabel('Price')\n",
    "plt.tight_layout() #Chart appearance settings\n",
    "plt.show()\n"
   ]
  },
  {
   "cell_type": "code",
   "execution_count": null,
   "id": "0f589062-d6d0-49d8-8c6b-4f74b62e386c",
   "metadata": {},
   "outputs": [],
   "source": [
    "#Descriptive statistics"
   ]
  },
  {
   "cell_type": "code",
   "execution_count": null,
   "id": "7992aca7-5939-4798-a517-42288c9d7033",
   "metadata": {},
   "outputs": [],
   "source": [
    "# Statistic Report\n",
    "print(\"Statistical report of numerical data:\")\n",
    "print(data.describe())\n"
   ]
  },
  {
   "cell_type": "code",
   "execution_count": null,
   "id": "0fa97959-27b9-44b3-8b12-a9479011df45",
   "metadata": {},
   "outputs": [],
   "source": [
    "#Data grouping and average Catigurization\n",
    "grouped_data = data.groupby(['price']).mean() #Grouping and average\n",
    "plt.figure(figsize=(8, 2))\n",
    "print(grouped_data.head(5))\n",
    "data['price'].value_counts().nlargest(10).plot(kind='bar')  # Create a column chart of 10 repeated values of the price variable\n",
    "plt.title('Price grouping column chart') \n",
    "plt.show()"
   ]
  },
  {
   "cell_type": "code",
   "execution_count": null,
   "id": "8f09ff2f-2792-4f03-8a72-3d35085e2f16",
   "metadata": {},
   "outputs": [],
   "source": [
    "#survey the distribution of variables"
   ]
  },
  {
   "cell_type": "code",
   "execution_count": null,
   "id": "3fbb8659-0ccb-4f88-b55f-0eadef8119d5",
   "metadata": {
    "scrolled": true
   },
   "outputs": [],
   "source": [
    "# Plot histogram for 'price'\n",
    "#data['price'] = np.sqrt(data['price'])# Use sqrt to symmetrize the histogram distribution\n",
    "\n",
    "plt.figure(figsize=(8, 3))   # Create a frame with dimensions of 3x8\n",
    "\n",
    "plt.subplot(1, 1, 1)  #drawing a chart in 1 row,1 column and index=1\n",
    "sns.histplot(data['price'], kde=True, bins=30)# Drawing the price histogram\n",
    "plt.title('Price Distribution Diagram')\n",
    "\n",
    "plt.tight_layout()# adjusting chart appereance\n",
    "plt.show()"
   ]
  },
  {
   "cell_type": "code",
   "execution_count": null,
   "id": "4f51041f-6685-4256-b3be-14af5dbf8c96",
   "metadata": {},
   "outputs": [],
   "source": [
    "#Visualazation"
   ]
  },
  {
   "cell_type": "code",
   "execution_count": null,
   "id": "caa1497c-95b3-47cd-a723-e8d6ac0982d0",
   "metadata": {},
   "outputs": [],
   "source": [
    "#Price and Square total foot analysis\n",
    "# Scatter plot for 'price' vs 'sqft_total'\n",
    "plt.figure(figsize=(5, 4)) #creating a frame with specific dimension\n",
    "sns.scatterplot(x='sqft_total', y='price', data=data) # Drawing the scatter plot of two variables\n",
    "plt.title('Price vs Total Square Footage') #Identify the title\n",
    "plt.xlabel('Total Square Footage')# The title of the horizontal axis\n",
    "plt.ylabel('Price')#The title of the vertical axis\n",
    "plt.show()"
   ]
  },
  {
   "cell_type": "code",
   "execution_count": null,
   "id": "fd4b7fc4-f125-4388-bade-727795cd6411",
   "metadata": {},
   "outputs": [],
   "source": [
    "#Square living and Square living area analysis\n",
    "#Scatter plot for 'square living' vs 'Square living area'\n",
    "plt.figure(figsize=(5, 4))\n",
    "sns.scatterplot(x='sqft_living', y='living_area_sqft', data=data)# Drawing the scatter plot of two variables\n",
    "plt.title('sqft_living vs living_area_sqft')\n",
    "plt.xlabel('Square living')\n",
    "plt.ylabel('square living area')\n",
    "plt.show()"
   ]
  },
  {
   "cell_type": "code",
   "execution_count": null,
   "id": "8dcb8821-49ff-4b47-a118-989591ed973d",
   "metadata": {},
   "outputs": [],
   "source": [
    "# Price vs square living and Square living area\n",
    "plt.figure(figsize=(5, 4)) #creating a frame with specific dimension\n",
    "sns.scatterplot(x='sqft_living', y='price', data=data) # Drawing the scatter plot of two variables\n",
    "plt.title('Price vs sqft_living') #Identify the title\n",
    "plt.xlabel('sqft_living')# The title of the horizontal axis\n",
    "plt.ylabel('Price')#The title of the vertical axis\n",
    "plt.show()\n",
    "\n",
    "plt.figure(figsize=(5, 4)) #creating a frame with specific dimension\n",
    "sns.scatterplot(x='living_area_sqft', y='price', data=data) # Drawing the scatter plot of two variables\n",
    "plt.title('Price vs living_area_sqft') #Identify the title\n",
    "plt.xlabel('living_area_sqft')# The title of the horizontal axis\n",
    "plt.ylabel('Price')#The title of the vertical axis\n",
    "plt.show()\n"
   ]
  },
  {
   "cell_type": "code",
   "execution_count": null,
   "id": "51950113-a543-4701-a80f-00b5f7a6d133",
   "metadata": {},
   "outputs": [],
   "source": [
    "#Attribute relationships"
   ]
  },
  {
   "cell_type": "code",
   "execution_count": null,
   "id": "7b83a6cd-3f9d-4092-aefc-c92521d4d69c",
   "metadata": {},
   "outputs": [],
   "source": [
    "# correlation matrix\n",
    "correlation_matrix = data[['price','sqft_total','sqft_living', 'living_area_sqft','bedrooms', 'bathrooms','floors',\n",
    "                           'condition', 'grade', 'built', 'renovated']].corr() #calculating the correlation matrix\n",
    "\n",
    "# Visualize correlation matrix\n",
    "plt.figure(figsize=(6,6)) #Adjust the size of the chart frame\n",
    "sns.heatmap(correlation_matrix, annot=True, cmap='coolwarm', fmt='.2f')#Drawing a correlation diagram as a heat map \n",
    "plt.title('Correlation Matrix')# adjust title for diagram\n",
    "plt.show()# depicting diagram"
   ]
  },
  {
   "cell_type": "code",
   "execution_count": null,
   "id": "8377332f-37cb-4607-a5e6-3a41ed3a0bd4",
   "metadata": {},
   "outputs": [],
   "source": []
  },
  {
   "cell_type": "code",
   "execution_count": null,
   "id": "7ad151c2-d2e8-4e97-a7bd-8a065071f714",
   "metadata": {},
   "outputs": [],
   "source": []
  },
  {
   "cell_type": "code",
   "execution_count": null,
   "id": "98ad60ac-3d84-4cb3-8c7c-f29c07a9bad2",
   "metadata": {},
   "outputs": [],
   "source": []
  }
 ],
 "metadata": {
  "kernelspec": {
   "display_name": "Python 3 (ipykernel)",
   "language": "python",
   "name": "python3"
  },
  "language_info": {
   "codemirror_mode": {
    "name": "ipython",
    "version": 3
   },
   "file_extension": ".py",
   "mimetype": "text/x-python",
   "name": "python",
   "nbconvert_exporter": "python",
   "pygments_lexer": "ipython3",
   "version": "3.12.7"
  }
 },
 "nbformat": 4,
 "nbformat_minor": 5
}
